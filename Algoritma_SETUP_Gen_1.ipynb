{
  "cells": [
    {
      "cell_type": "code",
      "source": [
        "import random\n",
        "import sympy\n",
        "import time"
      ],
      "metadata": {
        "id": "7mECub7hn71B"
      },
      "execution_count": null,
      "outputs": []
    },
    {
      "cell_type": "markdown",
      "source": [
        "### Pembentukan Kunci Penyerang"
      ],
      "metadata": {
        "id": "eu4LP2f1noQY"
      }
    },
    {
      "cell_type": "code",
      "execution_count": null,
      "metadata": {
        "colab": {
          "base_uri": "https://localhost:8080/"
        },
        "id": "5apPvhTc4zlr",
        "outputId": "f15609cf-2513-4fa5-9de4-76079564f3ad"
      },
      "outputs": [
        {
          "output_type": "stream",
          "name": "stdout",
          "text": [
            "Kunci Publik Penyerang (N, E): (76502948189126386513214527963525956445512742750067995761974910266798161593670631750569777754774102979251664040482342059430899192144690901717579110970975423819674332611769614349766436143917498346823727848255909577075453203418511616295422352804625293608846645941606604178675780949710515061523716228933512544259, 65537)\n",
            "Kunci Privat Penyerang (N, D): (76502948189126386513214527963525956445512742750067995761974910266798161593670631750569777754774102979251664040482342059430899192144690901717579110970975423819674332611769614349766436143917498346823727848255909577075453203418511616295422352804625293608846645941606604178675780949710515061523716228933512544259, 62729685975666779963182969981902709118039638218153927647847898559854732559022726231168938416254188411111676186084808544634293006812508959465634164904684016353061451078974766456702103519164219872926587587922066552220355653772588487994784186889423524201937360522812295611347800417390974927834665295495212464193)\n",
            "Waktu Eksekusi: 0.08061838150024414 detik\n"
          ]
        }
      ],
      "source": [
        "def generate_attacker_key(k, E):\n",
        "    start_time = time.time()\n",
        "    while True:\n",
        "        l = int(k/2)\n",
        "        Q = sympy.randprime(2**(l-1), 2**l)\n",
        "        P = sympy.randprime(2**(l-1), 2**l)\n",
        "        N = P * Q\n",
        "        phi_N = (P - 1) * (Q - 1)\n",
        "        if sympy.gcd(E, phi_N) == 1:\n",
        "          D = sympy.mod_inverse(E, phi_N)\n",
        "          end_time = time.time()\n",
        "          return (N, E), (N, D), end_time - start_time\n",
        "\n",
        "# Contoh Penggunaan\n",
        "generate_E = 65537\n",
        "att_pub_key, att_priv_key, execution_time = generate_attacker_key(1024, generate_E)\n",
        "print(\"Kunci Publik Penyerang (N, E):\", att_pub_key)\n",
        "print(\"Kunci Privat Penyerang (N, D):\", att_priv_key)\n",
        "print(\"Waktu Eksekusi:\", execution_time, \"detik\")"
      ]
    },
    {
      "cell_type": "markdown",
      "source": [
        "### Pembentukan Kunci Pengguna"
      ],
      "metadata": {
        "id": "t0H4wS5QpL-P"
      }
    },
    {
      "cell_type": "code",
      "execution_count": null,
      "metadata": {
        "colab": {
          "base_uri": "https://localhost:8080/"
        },
        "id": "kCe5H_TbwtwU",
        "outputId": "9288551b-09b6-4121-9e5e-2adbadc0f148"
      },
      "outputs": [
        {
          "output_type": "stream",
          "name": "stdout",
          "text": [
            "Ukuran Kunci: 1024 bit\n",
            "Kunci Publik (n, e): (74646492700140023450625312771959614729750570948185051090429174440636849877207517271751464982459285799250104901020263717361051054359944022252020714184589795575486323335385273212653033088511527999475526550250611711946427591631138932725580663637801707793031281444977564821870702032489829159383887448652271793999, 14461460417827407758166543702520881017093568017076893462935103606991816998193239505722501496488643657783400315736158771927408813564066927483651990442406661893960606470385833846918617018595281586856953427899468283539489095536442623417839909531691268512982250492826189301809456361108807948473677104546901398745)\n",
            "Kunci Privat (p, q, d): (8177360207294772938951905119305754846208977887320703615572550841139395372531144157672602492603153407182060167825812640102232477616082044305116595446368863, 9128433969870884537066359614399843487385132284896255348867439469863055001882083287497392503615279572220026998771622063647578197907690710048546858101709073, 57001044922806970496651281695919989475875928676007199888652597103227852643480569681531854093804205667630331974281179671305464724873021018674609964497046383553426585693056749198759780808525114737373606998316982805971856429961065124893622625043339947610029026771514337022616012403143537658002595295318047020393)\n",
            "Waktu Eksekusi: 0.3797948360443115 detik\n"
          ]
        }
      ],
      "source": [
        "def generate_key(k, N, E):\n",
        "    start_time = time.time()\n",
        "    while True:\n",
        "        l = int(k/2)\n",
        "        q = sympy.randprime(2**(l-1), 2**l)\n",
        "        p = sympy.randprime(2**(l-1), 2**l)\n",
        "        n = p * q\n",
        "        phi_n = (p - 1) * (q - 1)\n",
        "        e = pow(p, E, N)\n",
        "        if sympy.gcd(e, phi_n) == 1:\n",
        "          d = sympy.mod_inverse(e, phi_n)\n",
        "          end_time = time.time()\n",
        "          return (n, e), (p, q, d), end_time - start_time\n",
        "\n",
        "# Contoh Penggunaan\n",
        "public_key, private_key, execution_time = generate_key(1024, att_pub_key[0], att_pub_key[1])\n",
        "print(\"Ukuran Kunci:\", 1024, \"bit\")\n",
        "print(\"Kunci Publik (n, e):\", public_key)\n",
        "print(\"Kunci Privat (p, q, d):\", private_key)\n",
        "print(\"Waktu Eksekusi:\", execution_time, \"detik\")"
      ]
    },
    {
      "cell_type": "markdown",
      "source": [
        "### Pemulihan Kunci Pengguna"
      ],
      "metadata": {
        "id": "NotgjJ_HqCm3"
      }
    },
    {
      "cell_type": "code",
      "source": [
        "def fast_exp_mod(b, exp, m=None):\n",
        "    # Metode Fast Exponentiation untuk mempercepat proses pemangkatan modulo\n",
        "    res = 1\n",
        "\n",
        "    while exp > 0:\n",
        "        if exp % 2 == 1:\n",
        "            res = (res * b) % m if m is not None else res * b\n",
        "        b = (b * b) % m if m is not None else b * b\n",
        "        exp //= 2\n",
        "\n",
        "    return res % m if m is not None else res\n",
        "\n",
        "def factorize(n, N, D, e):\n",
        "    start_time = time.time()\n",
        "    p = fast_exp_mod(e, D, N)\n",
        "    q = n // fast_exp_mod(e, D, N)\n",
        "    end_time = time.time()\n",
        "    return p, q, end_time - start_time\n",
        "\n",
        "p, q, execution_time = factorize(public_key[0], att_priv_key[0], att_priv_key[1], public_key[1])\n",
        "print(\"Prima p dan q untuk ukuran \", 1024, \" bit :\", (p,q))\n",
        "print(\"Waktu Eksekusi:\", execution_time, \"detik\")"
      ],
      "metadata": {
        "id": "eTnTrhpb71vH",
        "colab": {
          "base_uri": "https://localhost:8080/"
        },
        "outputId": "d7d7e54d-50cc-46c3-e0a8-36d00821b5d8"
      },
      "execution_count": null,
      "outputs": [
        {
          "output_type": "stream",
          "name": "stdout",
          "text": [
            "Prima p dan q untuk ukuran  1024  bit : (8177360207294772938951905119305754846208977887320703615572550841139395372531144157672602492603153407182060167825812640102232477616082044305116595446368863, 9128433969870884537066359614399843487385132284896255348867439469863055001882083287497392503615279572220026998771622063647578197907690710048546858101709073)\n",
            "Waktu Eksekusi: 0.018260717391967773 detik\n"
          ]
        }
      ]
    }
  ],
  "metadata": {
    "colab": {
      "provenance": []
    },
    "kernelspec": {
      "display_name": "Python 3",
      "name": "python3"
    },
    "language_info": {
      "name": "python"
    }
  },
  "nbformat": 4,
  "nbformat_minor": 0
}